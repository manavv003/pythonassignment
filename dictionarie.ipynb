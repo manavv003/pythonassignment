{
 "cells": [
  {
   "cell_type": "code",
   "execution_count": 2,
   "id": "c8b91ad8",
   "metadata": {},
   "outputs": [
    {
     "name": "stdout",
     "output_type": "stream",
     "text": [
      "<class 'dict'>\n"
     ]
    }
   ],
   "source": [
    "#dictionaries in python\n",
    "\n",
    "d1={1:\"Sunday\", 2:\"monday\", 'Holiday':\"Sunday\"}\n",
    "\n",
    "print(type(d1))"
   ]
  },
  {
   "cell_type": "code",
   "execution_count": 3,
   "id": "4e5a8f73",
   "metadata": {},
   "outputs": [
    {
     "name": "stdout",
     "output_type": "stream",
     "text": [
      "{1: 'Sunday', 2: 'monday', 'Holiday': 'Sunday'}\n"
     ]
    }
   ],
   "source": [
    "print(d1)"
   ]
  },
  {
   "cell_type": "code",
   "execution_count": 8,
   "id": "9e1c7e76",
   "metadata": {},
   "outputs": [
    {
     "name": "stdout",
     "output_type": "stream",
     "text": [
      "Sunday\n",
      "Sunday\n"
     ]
    }
   ],
   "source": [
    "print(d1[1])\n",
    "print(d1['Holiday'])"
   ]
  },
  {
   "cell_type": "code",
   "execution_count": 9,
   "id": "7cbe2ea3",
   "metadata": {},
   "outputs": [
    {
     "data": {
      "text/plain": [
       "dict_keys([1, 2, 'Holiday'])"
      ]
     },
     "execution_count": 9,
     "metadata": {},
     "output_type": "execute_result"
    }
   ],
   "source": [
    "#print all keys\n",
    "\n",
    "d1.keys()"
   ]
  },
  {
   "cell_type": "code",
   "execution_count": 10,
   "id": "36c27877",
   "metadata": {},
   "outputs": [
    {
     "data": {
      "text/plain": [
       "dict_values(['Sunday', 'monday', 'Sunday'])"
      ]
     },
     "execution_count": 10,
     "metadata": {},
     "output_type": "execute_result"
    }
   ],
   "source": [
    "#print values\n",
    "\n",
    "d1.values()"
   ]
  },
  {
   "cell_type": "code",
   "execution_count": 11,
   "id": "fade6eb5",
   "metadata": {},
   "outputs": [
    {
     "data": {
      "text/plain": [
       "dict_items([(1, 'Sunday'), (2, 'monday'), ('Holiday', 'Sunday')])"
      ]
     },
     "execution_count": 11,
     "metadata": {},
     "output_type": "execute_result"
    }
   ],
   "source": [
    "#print items\n",
    "\n",
    "d1.items()"
   ]
  },
  {
   "cell_type": "code",
   "execution_count": 14,
   "id": "92671d4d",
   "metadata": {},
   "outputs": [
    {
     "name": "stdout",
     "output_type": "stream",
     "text": [
      "{1: 'holiday', 2: 'monday', 'Holiday': 'Sunday', 'new': 'wednesday'}\n"
     ]
    }
   ],
   "source": [
    "#print new data in dictionaries\n",
    "\n",
    "d1[\"new\"]=\"wednesday\"\n",
    "d1[1]=\"holiday\"\n",
    "\n",
    "print(d1)"
   ]
  },
  {
   "cell_type": "code",
   "execution_count": 16,
   "id": "04b7201c",
   "metadata": {},
   "outputs": [
    {
     "name": "stdout",
     "output_type": "stream",
     "text": [
      "holiday\n",
      "Sunday\n"
     ]
    }
   ],
   "source": [
    "#print data using get() function\n",
    "\n",
    "print(d1.get(1))\n",
    "print(d1.get(\"Holiday\"))"
   ]
  },
  {
   "cell_type": "code",
   "execution_count": null,
   "id": "9014bf0d",
   "metadata": {},
   "outputs": [],
   "source": [
    "#a card is drawn at random from a desk of well-shuffled cards. find the probability of  is being neither a king nor a spade."
   ]
  }
 ],
 "metadata": {
  "kernelspec": {
   "display_name": "Python 3 (ipykernel)",
   "language": "python",
   "name": "python3"
  },
  "language_info": {
   "codemirror_mode": {
    "name": "ipython",
    "version": 3
   },
   "file_extension": ".py",
   "mimetype": "text/x-python",
   "name": "python",
   "nbconvert_exporter": "python",
   "pygments_lexer": "ipython3",
   "version": "3.9.6"
  }
 },
 "nbformat": 4,
 "nbformat_minor": 5
}
