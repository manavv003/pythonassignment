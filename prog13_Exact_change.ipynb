{
 "cells": [
  {
   "cell_type": "code",
   "execution_count": 2,
   "id": "7368aa4c-4b6f-4f1f-8258-ae1a6c4b5d2c",
   "metadata": {},
   "outputs": [
    {
     "name": "stdout",
     "output_type": "stream",
     "text": [
      "Can you form 3 exactly using 1 2 3 ?\n",
      "Combination: 0 of 1, 0 of 2, 1 of 3\n",
      "Combination: 1 of 1, 1 of 2, 0 of 3\n",
      "Combination: 3 of 1, 0 of 2, 0 of 3\n"
     ]
    }
   ],
   "source": [
    "#13 Exact change: Given a price identify if you have exact change summing up to that price? (Count all combinations of coins to make a given value sum.) \n",
    "\n",
    "price = int(input('Price: '))\n",
    "deno1=1\n",
    "deno2=2\n",
    "deno3 =3\n",
    "\n",
    "print(\"Can you form\", price, \"exactly using\", deno1, deno2, deno3, \"?\")\n",
    "\n",
    "found = False\n",
    "\n",
    "for d1 in range(0, 1 + price // deno1):\n",
    "    for d2 in range(0, 1 + price // deno2):\n",
    "        for d3 in range(0, 1 + price // deno3):\n",
    "            if d1 * deno1 + d2 * deno2 + d3 * deno3 == price:\n",
    "                print(f\"Combination: {d1} of {deno1}, {d2} of {deno2}, {d3} of {deno3}\")\n",
    "                found = True\n",
    "\n",
    "\n"
   ]
  },
  {
   "cell_type": "code",
   "execution_count": null,
   "id": "8c749b81",
   "metadata": {},
   "outputs": [],
   "source": []
  }
 ],
 "metadata": {
  "kernelspec": {
   "display_name": "Python 3 (ipykernel)",
   "language": "python",
   "name": "python3"
  },
  "language_info": {
   "codemirror_mode": {
    "name": "ipython",
    "version": 3
   },
   "file_extension": ".py",
   "mimetype": "text/x-python",
   "name": "python",
   "nbconvert_exporter": "python",
   "pygments_lexer": "ipython3",
   "version": "3.12.5"
  }
 },
 "nbformat": 4,
 "nbformat_minor": 5
}
