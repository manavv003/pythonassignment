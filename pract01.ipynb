{
 "cells": [
  {
   "cell_type": "code",
   "execution_count": 1,
   "id": "6a1500f8",
   "metadata": {},
   "outputs": [
    {
     "name": "stdout",
     "output_type": "stream",
     "text": [
      "The probability of drawing a card that is neither a king nor a spade is: 0.69\n"
     ]
    }
   ],
   "source": [
    "#a card is drawn at random from a desk of well-shuffled cards. find the probability of  is being neither a king nor a spade.\n",
    "\n",
    "def probability_neither_king_nor_spade():\n",
    "    total_cards = 52\n",
    "    kings = 4\n",
    "    spades = 13\n",
    "    kings_and_spades = 1\n",
    "\n",
    "    # Cards that are either kings or spades\n",
    "    either_kings_or_spades = kings + spades - kings_and_spades\n",
    "    \n",
    "    # Cards that are neither kings nor spades\n",
    "    neither_kings_nor_spades = total_cards - either_kings_or_spades\n",
    "    \n",
    "    # Calculate the probability\n",
    "    probability = neither_kings_nor_spades / total_cards\n",
    "    \n",
    "    return probability\n",
    "\n",
    "# Print the probability\n",
    "print(f\"The probability of drawing a card that is neither a king nor a spade is: {probability_neither_king_nor_spade():.2f}\")\n"
   ]
  },
  {
   "cell_type": "code",
   "execution_count": 9,
   "id": "99d2cda5",
   "metadata": {},
   "outputs": [],
   "source": [
    "#find the sum of the first n natural numbers.\n",
    "\n",
    "#extracting field of a roll number using string indexing and slicing.\n",
    "\n",
    "#word suffle using string manipulation.\n",
    "\n",
    "#write a program to find out if the two blood group match.\n",
    "\n",
    "#find the student from CS department where the roll number may be in capital or small case letters.\n",
    "\n",
    "#to read a card as input and output if the card lucky or not."
   ]
  },
  {
   "cell_type": "code",
   "execution_count": 7,
   "id": "711b353f",
   "metadata": {},
   "outputs": [
    {
     "name": "stdout",
     "output_type": "stream",
     "text": [
      "The shuffled version of 'hello' is: 'lolhe'\n"
     ]
    }
   ],
   "source": []
  },
  {
   "cell_type": "code",
   "execution_count": 8,
   "id": "183aa8b0",
   "metadata": {},
   "outputs": [
    {
     "name": "stdout",
     "output_type": "stream",
     "text": [
      "Department Code: AB\n",
      "Year: 2024\n",
      "Sequence Number: 001\n"
     ]
    }
   ],
   "source": [
    "#extracting field of a roll number using string indexing and slicing.\n",
    "\n",
    "def extract_fields(roll_number):\n",
    "    # Extract department code (first 2 characters)\n",
    "    department_code = roll_number[0:2]\n",
    "    \n",
    "    # Extract year (characters 3 to 6)\n",
    "    year = roll_number[3:7]\n",
    "    \n",
    "    # Extract sequence number (characters 8 to 10)\n",
    "    sequence_number = roll_number[8:11]\n",
    "    \n",
    "    return department_code, year, sequence_number\n",
    "\n",
    "# Example usage\n",
    "roll_number = \"AB-2024-001\"\n",
    "department_code, year, sequence_number = extract_fields(roll_number)\n",
    "\n",
    "print(f\"Department Code: {department_code}\")\n",
    "print(f\"Year: {year}\")\n",
    "print(f\"Sequence Number: {sequence_number}\")\n"
   ]
  },
  {
   "cell_type": "code",
   "execution_count": 10,
   "id": "54d87796",
   "metadata": {},
   "outputs": [
    {
     "name": "stdout",
     "output_type": "stream",
     "text": [
      "The shuffled version of 'hello' is: 'lhelo'\n"
     ]
    }
   ],
   "source": [
    "#word suffle using string manipulation.\n",
    "\n",
    "import random\n",
    "\n",
    "def shuffle_word(word):\n",
    "    # Convert the word into a list of characters\n",
    "    char_list = list(word)\n",
    "    \n",
    "    # Shuffle the list of characters\n",
    "    random.shuffle(char_list)\n",
    "    \n",
    "    # Join the shuffled list back into a string\n",
    "    shuffled_word = ''.join(char_list)\n",
    "    \n",
    "    return shuffled_word\n",
    "\n",
    "# Example usage\n",
    "word = \"hello\"\n",
    "shuffled = shuffle_word(word)\n",
    "print(f\"The shuffled version of '{word}' is: '{shuffled}'\")\n"
   ]
  },
  {
   "cell_type": "code",
   "execution_count": 11,
   "id": "dcc86256",
   "metadata": {},
   "outputs": [
    {
     "name": "stdout",
     "output_type": "stream",
     "text": [
      "The blood group A+ is compatible with O-.\n"
     ]
    }
   ],
   "source": [
    "#write a program to find out if the two blood group match.\n",
    "\n",
    "def blood_group_compatible(donor, receiver):\n",
    "    compatibility = {\n",
    "        'A+': ['A+', 'A-', 'O+', 'O-'],\n",
    "        'A-': ['A-', 'O-'],\n",
    "        'B+': ['B+', 'B-', 'O+', 'O-'],\n",
    "        'B-': ['B-', 'O-'],\n",
    "        'AB+': ['A+', 'A-', 'B+', 'B-', 'AB+', 'AB-', 'O+', 'O-'],\n",
    "        'AB-': ['A-', 'B-', 'AB-', 'O-'],\n",
    "        'O+': ['O+', 'O-'],\n",
    "        'O-': ['O-']\n",
    "    }\n",
    "\n",
    "    if receiver in compatibility.get(donor, []):\n",
    "        return True\n",
    "    return False\n",
    "\n",
    "# Example usage\n",
    "donor = \"A+\"\n",
    "receiver = \"O-\"\n",
    "\n",
    "if blood_group_compatible(donor, receiver):\n",
    "    print(f\"The blood group {donor} is compatible with {receiver}.\")\n",
    "else:\n",
    "    print(f\"The blood group {donor} is not compatible with {receiver}.\")\n"
   ]
  },
  {
   "cell_type": "code",
   "execution_count": 12,
   "id": "d80621e3",
   "metadata": {},
   "outputs": [
    {
     "name": "stdout",
     "output_type": "stream",
     "text": [
      "Students from the CS department: ['CS101-2024-001', 'cs102-2024-002', 'cs104-2024-004', 'CS105-2024-005']\n"
     ]
    }
   ],
   "source": [
    "#find the student from CS department where the roll number may be in capital or small case letters.\n",
    "\n",
    "def find_cs_students(roll_numbers):\n",
    "    cs_students = []\n",
    "    \n",
    "    for roll_number in roll_numbers:\n",
    "        # Convert roll number to uppercase to handle case insensitivity\n",
    "        roll_number_upper = roll_number.upper()\n",
    "        \n",
    "        # Check if the roll number starts with 'CS' (case insensitive)\n",
    "        if roll_number_upper.startswith('CS'):\n",
    "            cs_students.append(roll_number)\n",
    "    \n",
    "    return cs_students\n",
    "\n",
    "# Example usage\n",
    "roll_numbers = [\n",
    "    \"CS101-2024-001\",\n",
    "    \"cs102-2024-002\",\n",
    "    \"IT103-2024-003\",\n",
    "    \"cs104-2024-004\",\n",
    "    \"CS105-2024-005\",\n",
    "    \"it106-2024-006\"\n",
    "]\n",
    "\n",
    "cs_students = find_cs_students(roll_numbers)\n",
    "print(\"Students from the CS department:\", cs_students)\n"
   ]
  },
  {
   "cell_type": "code",
   "execution_count": null,
   "id": "efc88018",
   "metadata": {},
   "outputs": [],
   "source": [
    "def get_rank_value(rank):\n",
    "    \"\"\"Return the value of the rank.\"\"\"\n",
    "    rank = rank.lower()  # Convert rank to lowercase for case insensitivity\n",
    "    if rank in ['jack', 'j']:\n",
    "        return 11\n",
    "    elif rank in ['queen', 'q']:\n",
    "        return 12\n",
    "    elif rank in ['king', 'k']:\n",
    "        return 13\n",
    "    elif rank == 'ace' or rank == 'a':\n",
    "        return 1\n",
    "    elif rank.isdigit() and 2 <= int(rank) <= 10:\n",
    "        return int(rank)\n",
    "    else:\n",
    "        return 0  # Invalid rank\n",
    "\n",
    "def is_lucky_card(card):\n",
    "    \"\"\"Determine if a card is lucky based on its rank.\"\"\"\n",
    "    try:\n",
    "        # Split card into rank and suit\n",
    "        rank, suit = card.split()\n",
    "        \n",
    "        # Get the rank value\n",
    "        rank_value = get_rank_value(rank)\n",
    "        \n",
    "        # Define lucky criteria (e.g., rank value > 10)\n",
    "        if rank_value > 10:\n",
    "            return True\n",
    "        else:\n",
    "            return False\n",
    "    except ValueError:\n",
    "        return False  # Invalid input format\n",
    "\n",
    "# Example usage\n",
    "card = input(\"Enter the card (rank suit): \").strip()\n",
    "if is_lucky_card(card):\n",
    "    print(f\"The card '{card}' is lucky!\")\n",
    "else:\n",
    "    print(f\"The card '{card}' is not lucky.\")\n"
   ]
  },
  {
   "cell_type": "code",
   "execution_count": null,
   "id": "47533126",
   "metadata": {},
   "outputs": [],
   "source": []
  }
 ],
 "metadata": {
  "kernelspec": {
   "display_name": "Python 3 (ipykernel)",
   "language": "python",
   "name": "python3"
  },
  "language_info": {
   "codemirror_mode": {
    "name": "ipython",
    "version": 3
   },
   "file_extension": ".py",
   "mimetype": "text/x-python",
   "name": "python",
   "nbconvert_exporter": "python",
   "pygments_lexer": "ipython3",
   "version": "3.9.6"
  }
 },
 "nbformat": 4,
 "nbformat_minor": 5
}
