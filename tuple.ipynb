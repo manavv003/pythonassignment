{
 "cells": [
  {
   "cell_type": "code",
   "execution_count": 1,
   "id": "d17b1c86",
   "metadata": {},
   "outputs": [
    {
     "name": "stdout",
     "output_type": "stream",
     "text": [
      "5\n",
      "ee\n",
      "ccc\n"
     ]
    }
   ],
   "source": [
    "#tuple\n",
    "\n",
    "x=['a', ['bb', ['ccc', 'ddd'], 'ee', 'ff',], 'g', ['hh', 'ii'], 'j']\n",
    "\n",
    "print(len(x))\n",
    "print(x[1][1:3][1])\n",
    "print(x[1][1:3][0][0])"
   ]
  },
  {
   "cell_type": "code",
   "execution_count": 2,
   "id": "27c45f42",
   "metadata": {},
   "outputs": [
    {
     "name": "stdout",
     "output_type": "stream",
     "text": [
      "('apple', 'kiwi', 'cherry')\n"
     ]
    }
   ],
   "source": [
    "#update tuple\n",
    "\n",
    "x = (\"apple\", \"banana\", \"cherry\")\n",
    "y = list(x)\n",
    "y[1] = \"kiwi\"\n",
    "x = tuple(y)\n",
    "\n",
    "print(x)"
   ]
  },
  {
   "cell_type": "code",
   "execution_count": null,
   "id": "7feb63b6",
   "metadata": {},
   "outputs": [],
   "source": []
  }
 ],
 "metadata": {
  "kernelspec": {
   "display_name": "Python 3 (ipykernel)",
   "language": "python",
   "name": "python3"
  },
  "language_info": {
   "codemirror_mode": {
    "name": "ipython",
    "version": 3
   },
   "file_extension": ".py",
   "mimetype": "text/x-python",
   "name": "python",
   "nbconvert_exporter": "python",
   "pygments_lexer": "ipython3",
   "version": "3.9.6"
  }
 },
 "nbformat": 4,
 "nbformat_minor": 5
}
