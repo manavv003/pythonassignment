{
 "cells": [
  {
   "cell_type": "code",
   "execution_count": 1,
   "id": "4abcaa9a",
   "metadata": {},
   "outputs": [
    {
     "name": "stdout",
     "output_type": "stream",
     "text": [
      "<class 'set'>\n",
      "<class 'dict'>\n"
     ]
    }
   ],
   "source": [
    "#set program in python\n",
    "\n",
    "s={1, 'a', 2}\n",
    "p={}\n",
    "print(type(s))\n",
    "print(type(p))"
   ]
  },
  {
   "cell_type": "code",
   "execution_count": 2,
   "id": "1dfe14c3",
   "metadata": {},
   "outputs": [
    {
     "name": "stdout",
     "output_type": "stream",
     "text": [
      "{1, 2, 3, 'A', 'a'}\n"
     ]
    }
   ],
   "source": [
    "#convert list to set\n",
    "\n",
    "s1=[1,2,3,'a', 'A', 1, 'A']\n",
    "s2=set(s1)\n",
    "print(s2)"
   ]
  },
  {
   "cell_type": "code",
   "execution_count": 4,
   "id": "3240584f",
   "metadata": {},
   "outputs": [
    {
     "name": "stdout",
     "output_type": "stream",
     "text": [
      "<class 'set'>\n",
      "<class 'set'>\n"
     ]
    }
   ],
   "source": [
    "#create empty set\n",
    "s3=set()\n",
    "print(type(s3))\n",
    "s4=set([])\n",
    "print(type(s4))"
   ]
  },
  {
   "cell_type": "code",
   "execution_count": 8,
   "id": "9f0fd52e",
   "metadata": {},
   "outputs": [
    {
     "name": "stdout",
     "output_type": "stream",
     "text": [
      "{0, 2, 4, 'cat', 6, 'COW', 'dog', 'cow'}\n",
      "{2, 4}\n",
      "{'COW', 'cat', 'cow'}\n",
      "{'Dog', 'cat2'}\n",
      "{'Dog', 'cat', 'COW', 'cow', 'cat2'}\n",
      "{'Dog', 'cat', 'COW', 'cow', 'cat2'}\n"
     ]
    }
   ],
   "source": [
    "#ex.\n",
    "\n",
    "ss1={'cat', 'dog', 'cow', 'COW'}\n",
    "ss2={0,2,4,6}\n",
    "ss3={1,2,3,4,5}\n",
    "ss4={'cat2', 'dog', 'Dog'}\n",
    "\n",
    "print(ss1|ss2)\n",
    "print(ss2&ss3)\n",
    "print(ss1-ss4)\n",
    "print(ss4-ss1)\n",
    "print(ss1^ss4)\n",
    "print(ss4^ss1)"
   ]
  },
  {
   "cell_type": "code",
   "execution_count": null,
   "id": "fe6e2357",
   "metadata": {},
   "outputs": [],
   "source": []
  },
  {
   "cell_type": "code",
   "execution_count": null,
   "id": "e79490ad",
   "metadata": {},
   "outputs": [],
   "source": []
  }
 ],
 "metadata": {
  "kernelspec": {
   "display_name": "Python 3 (ipykernel)",
   "language": "python",
   "name": "python3"
  },
  "language_info": {
   "codemirror_mode": {
    "name": "ipython",
    "version": 3
   },
   "file_extension": ".py",
   "mimetype": "text/x-python",
   "name": "python",
   "nbconvert_exporter": "python",
   "pygments_lexer": "ipython3",
   "version": "3.9.6"
  }
 },
 "nbformat": 4,
 "nbformat_minor": 5
}
